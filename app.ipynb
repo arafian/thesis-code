{
 "cells": [
  {
   "cell_type": "code",
   "execution_count": null,
   "id": "eda17c39-f9b1-46a4-b5cc-6fb3c58a9dfa",
   "metadata": {
    "scrolled": true
   },
   "outputs": [
    {
     "name": "stdout",
     "output_type": "stream",
     "text": [
      "Intel MKL WARNING: Support of Intel(R) Streaming SIMD Extensions 4.2 (Intel(R) SSE4.2) enabled only processors has been deprecated. Intel oneAPI Math Kernel Library 2025.0 will require Intel(R) Advanced Vector Extensions (Intel(R) AVX) instructions.\n",
      "Intel MKL WARNING: Support of Intel(R) Streaming SIMD Extensions 4.2 (Intel(R) SSE4.2) enabled only processors has been deprecated. Intel oneAPI Math Kernel Library 2025.0 will require Intel(R) Advanced Vector Extensions (Intel(R) AVX) instructions.\n",
      "importing Jupyter notebook from pipeline.ipynb\n",
      " * Serving Flask app \"__main__\" (lazy loading)\n",
      " * Environment: production\n",
      "\u001b[31m   WARNING: This is a development server. Do not use it in a production deployment.\u001b[0m\n",
      "\u001b[2m   Use a production WSGI server instead.\u001b[0m\n",
      " * Debug mode: off\n"
     ]
    },
    {
     "name": "stderr",
     "output_type": "stream",
     "text": [
      " * Running on all addresses.\n",
      "   WARNING: This is a development server. Do not use it in a production deployment.\n",
      " * Running on http://10.144.36.126:5001/ (Press CTRL+C to quit)\n",
      "10.144.36.126 - - [18/Mar/2024 11:41:00] \"GET / HTTP/1.1\" 200 -\n",
      "10.144.36.126 - - [18/Mar/2024 11:41:01] \"GET /static/script.js HTTP/1.1\" 200 -\n",
      "10.144.36.126 - - [18/Mar/2024 11:41:01] \"GET /static/backgrounds/sky.jpg HTTP/1.1\" 200 -\n",
      "Starting updateTable function\n",
      "User input is: 255\n",
      "Updated temp to 255\n",
      "User input is: 42.3\n",
      "Updated rpm to 42.3\n",
      "User input is: 0.029\n",
      "Updated growthRate to 0.029\n",
      "User input is: 1000\n",
      "Updated mediumDensity to 1000\n",
      "User input is: 7\n",
      "Updated doublings to 7\n",
      "No documents found with given params. Running simulation from scratch.\n"
     ]
    },
    {
     "name": "stdout",
     "output_type": "stream",
     "text": [
      "temp inputTemp 255\n",
      "rpm inputRPM 42.3\n",
      "growthRate inputGrowthRate 0.029\n",
      "mediumDensity inputMediumDensity 1000\n",
      "doublings inputDoublings 7\n"
     ]
    },
    {
     "name": "stderr",
     "output_type": "stream",
     "text": [
      "Loaded backend module://matplotlib_inline.backend_inline version unknown.\n",
      "Loaded backend module://matplotlib_inline.backend_inline version unknown.\n",
      "locator: <matplotlib.ticker.FixedLocator object at 0x7fe974baec10>\n",
      "locator: <matplotlib.ticker.FixedLocator object at 0x7fe974bffe80>\n",
      "locator: <matplotlib.ticker.FixedLocator object at 0x7fe9513b4280>\n",
      "locator: <matplotlib.ticker.FixedLocator object at 0x7fe951431c40>\n",
      "locator: <matplotlib.ticker.FixedLocator object at 0x7fe974cfa5e0>\n",
      "locator: <matplotlib.ticker.FixedLocator object at 0x7fe951509100>\n",
      "10.144.36.126 - - [18/Mar/2024 11:41:09] \"POST /updateTable HTTP/1.1\" 200 -\n"
     ]
    },
    {
     "name": "stdout",
     "output_type": "stream",
     "text": [
      "Document inserted with ID: 65f88ac5c764d98a5a1d6151\n"
     ]
    },
    {
     "name": "stderr",
     "output_type": "stream",
     "text": [
      "Starting updateTable function\n",
      "User input is: 2000\n",
      "Updated temp to 2000\n",
      "User input is: 42.3\n",
      "Updated rpm to 42.3\n",
      "User input is: 0.029\n",
      "Updated growthRate to 0.029\n",
      "User input is: 1000\n",
      "Updated mediumDensity to 1000\n",
      "User input is: 7\n",
      "Updated doublings to 7\n",
      "No documents found with given params. Running simulation from scratch.\n"
     ]
    },
    {
     "name": "stdout",
     "output_type": "stream",
     "text": [
      "temp inputTemp 2000\n",
      "rpm inputRPM 42.3\n",
      "growthRate inputGrowthRate 0.029\n",
      "mediumDensity inputMediumDensity 1000\n",
      "doublings inputDoublings 7\n"
     ]
    },
    {
     "name": "stderr",
     "output_type": "stream",
     "text": [
      "locator: <matplotlib.ticker.FixedLocator object at 0x7fe974e7ee80>\n",
      "locator: <matplotlib.ticker.FixedLocator object at 0x7fe974c6d850>\n",
      "locator: <matplotlib.ticker.FixedLocator object at 0x7fe9516234f0>\n",
      "locator: <matplotlib.ticker.FixedLocator object at 0x7fe9516f9490>\n",
      "locator: <matplotlib.ticker.FixedLocator object at 0x7fe951770f10>\n",
      "locator: <matplotlib.ticker.FixedLocator object at 0x7fe9752e98e0>\n",
      "10.144.36.126 - - [18/Mar/2024 11:41:22] \"POST /updateTable HTTP/1.1\" 200 -\n"
     ]
    },
    {
     "name": "stdout",
     "output_type": "stream",
     "text": [
      "Document inserted with ID: 65f88ad2c764d98a5a1d6152\n"
     ]
    },
    {
     "name": "stderr",
     "output_type": "stream",
     "text": [
      "Starting updateTable function\n",
      "User input is: 50\n",
      "Updated temp to 50\n",
      "User input is: 42.3\n",
      "Updated rpm to 42.3\n",
      "User input is: 0.029\n",
      "Updated growthRate to 0.029\n",
      "User input is: 1000\n",
      "Updated mediumDensity to 1000\n",
      "User input is: 7\n",
      "Updated doublings to 7\n",
      "No documents found with given params. Running simulation from scratch.\n"
     ]
    },
    {
     "name": "stdout",
     "output_type": "stream",
     "text": [
      "temp inputTemp 50\n",
      "rpm inputRPM 42.3\n",
      "growthRate inputGrowthRate 0.029\n",
      "mediumDensity inputMediumDensity 1000\n",
      "doublings inputDoublings 7\n"
     ]
    },
    {
     "name": "stderr",
     "output_type": "stream",
     "text": [
      "locator: <matplotlib.ticker.FixedLocator object at 0x7fe951bfc7f0>\n",
      "locator: <matplotlib.ticker.FixedLocator object at 0x7fe951cd0e50>\n",
      "locator: <matplotlib.ticker.FixedLocator object at 0x7fe951d80700>\n",
      "locator: <matplotlib.ticker.FixedLocator object at 0x7fe9583a71c0>\n",
      "locator: <matplotlib.ticker.FixedLocator object at 0x7fe9754da9d0>\n",
      "locator: <matplotlib.ticker.FixedLocator object at 0x7fe9754e55e0>\n",
      "10.144.36.126 - - [18/Mar/2024 11:44:16] \"POST /updateTable HTTP/1.1\" 200 -\n"
     ]
    },
    {
     "name": "stdout",
     "output_type": "stream",
     "text": [
      "Document inserted with ID: 65f88b80c764d98a5a1d6153\n"
     ]
    },
    {
     "name": "stderr",
     "output_type": "stream",
     "text": [
      "Starting updateTable function\n",
      "User input is: 50\n",
      "Updated temp to 50\n",
      "User input is: 80\n",
      "Updated rpm to 80\n",
      "User input is: 0.029\n",
      "Updated growthRate to 0.029\n",
      "User input is: 1000\n",
      "Updated mediumDensity to 1000\n",
      "User input is: 7\n",
      "Updated doublings to 7\n",
      "No documents found with given params. Running simulation from scratch.\n"
     ]
    },
    {
     "name": "stdout",
     "output_type": "stream",
     "text": [
      "temp inputTemp 50\n",
      "rpm inputRPM 80\n",
      "growthRate inputGrowthRate 0.029\n",
      "mediumDensity inputMediumDensity 1000\n",
      "doublings inputDoublings 7\n"
     ]
    },
    {
     "name": "stderr",
     "output_type": "stream",
     "text": [
      "locator: <matplotlib.ticker.FixedLocator object at 0x7fe960394100>\n",
      "locator: <matplotlib.ticker.FixedLocator object at 0x7fe975278a00>\n",
      "locator: <matplotlib.ticker.FixedLocator object at 0x7fe920105f40>\n",
      "locator: <matplotlib.ticker.FixedLocator object at 0x7fe96010f9d0>\n",
      "locator: <matplotlib.ticker.FixedLocator object at 0x7fe92015d280>\n",
      "locator: <matplotlib.ticker.FixedLocator object at 0x7fe9201d2d60>\n",
      "10.144.36.126 - - [18/Mar/2024 11:44:42] \"POST /updateTable HTTP/1.1\" 200 -\n"
     ]
    },
    {
     "name": "stdout",
     "output_type": "stream",
     "text": [
      "Document inserted with ID: 65f88b9ac764d98a5a1d6154\n"
     ]
    },
    {
     "name": "stderr",
     "output_type": "stream",
     "text": [
      "Starting updateTable function\n",
      "User input is: 50\n",
      "Updated temp to 50\n",
      "User input is: 80\n",
      "Updated rpm to 80\n",
      "User input is: 0.029\n",
      "Updated growthRate to 0.029\n",
      "User input is: 100\n",
      "Updated mediumDensity to 100\n",
      "User input is: 7\n",
      "Updated doublings to 7\n",
      "No documents found with given params. Running simulation from scratch.\n"
     ]
    },
    {
     "name": "stdout",
     "output_type": "stream",
     "text": [
      "temp inputTemp 50\n",
      "rpm inputRPM 80\n",
      "growthRate inputGrowthRate 0.029\n",
      "mediumDensity inputMediumDensity 100\n",
      "doublings inputDoublings 7\n"
     ]
    },
    {
     "name": "stderr",
     "output_type": "stream",
     "text": [
      "locator: <matplotlib.ticker.FixedLocator object at 0x7fe920992850>\n",
      "locator: <matplotlib.ticker.FixedLocator object at 0x7fe9603c8ee0>\n",
      "locator: <matplotlib.ticker.FixedLocator object at 0x7fe92076d0a0>\n",
      "locator: <matplotlib.ticker.FixedLocator object at 0x7fe9207e7c40>\n",
      "locator: <matplotlib.ticker.FixedLocator object at 0x7fe9208733d0>\n",
      "locator: <matplotlib.ticker.FixedLocator object at 0x7fe940072e20>\n",
      "10.144.36.126 - - [18/Mar/2024 11:45:08] \"POST /updateTable HTTP/1.1\" 200 -\n"
     ]
    },
    {
     "name": "stdout",
     "output_type": "stream",
     "text": [
      "Document inserted with ID: 65f88bb4c764d98a5a1d6155\n"
     ]
    },
    {
     "name": "stderr",
     "output_type": "stream",
     "text": [
      "10.144.36.126 - - [18/Mar/2024 11:45:19] \"GET / HTTP/1.1\" 200 -\n",
      "10.144.36.126 - - [18/Mar/2024 11:45:20] \"GET /static/script.js HTTP/1.1\" 200 -\n",
      "10.144.36.126 - - [18/Mar/2024 11:45:20] \"GET /static/backgrounds/sky.jpg HTTP/1.1\" 200 -\n",
      "Starting updateTable function\n",
      "User input is: 310\n",
      "Updated temp to 310\n",
      "User input is: 42.3\n",
      "Updated rpm to 42.3\n",
      "User input is: 0.029\n",
      "Updated growthRate to 0.029\n",
      "User input is: 1000\n",
      "Updated mediumDensity to 1000\n",
      "User input is: 7\n",
      "Updated doublings to 7\n",
      "Found 1 documents\n",
      "10.144.36.126 - - [18/Mar/2024 11:45:23] \"POST /updateTable HTTP/1.1\" 200 -\n"
     ]
    },
    {
     "name": "stdout",
     "output_type": "stream",
     "text": [
      "temp inputTemp 310\n",
      "rpm inputRPM 42.3\n",
      "growthRate inputGrowthRate 0.029\n",
      "mediumDensity inputMediumDensity 1000\n",
      "doublings inputDoublings 7\n"
     ]
    },
    {
     "name": "stderr",
     "output_type": "stream",
     "text": [
      "10.144.36.126 - - [18/Mar/2024 11:45:30] \"GET / HTTP/1.1\" 200 -\n",
      "10.144.36.126 - - [18/Mar/2024 11:45:30] \"GET /static/script.js HTTP/1.1\" 200 -\n",
      "10.144.36.126 - - [18/Mar/2024 11:45:30] \"GET /static/backgrounds/sky.jpg HTTP/1.1\" 200 -\n",
      "Starting updateTable function\n",
      "User input is: 310\n",
      "Updated temp to 310\n",
      "User input is: 42.3\n",
      "Updated rpm to 42.3\n",
      "User input is: 0.029\n",
      "Updated growthRate to 0.029\n",
      "User input is: 1000\n",
      "Updated mediumDensity to 1000\n",
      "User input is: 7\n",
      "Updated doublings to 7\n",
      "Found 1 documents\n",
      "10.144.36.126 - - [18/Mar/2024 11:46:11] \"POST /updateTable HTTP/1.1\" 200 -\n"
     ]
    },
    {
     "name": "stdout",
     "output_type": "stream",
     "text": [
      "temp inputTemp 310\n",
      "rpm inputRPM 42.3\n",
      "growthRate inputGrowthRate 0.029\n",
      "mediumDensity inputMediumDensity 1000\n",
      "doublings inputDoublings 7\n"
     ]
    },
    {
     "name": "stderr",
     "output_type": "stream",
     "text": [
      "Starting updateTable function\n",
      "User input is: 300\n",
      "Updated temp to 300\n",
      "User input is: 42.3\n",
      "Updated rpm to 42.3\n",
      "User input is: 0.029\n",
      "Updated growthRate to 0.029\n",
      "User input is: 1000\n",
      "Updated mediumDensity to 1000\n",
      "User input is: 7\n",
      "Updated doublings to 7\n",
      "Found 1 documents\n",
      "10.144.36.126 - - [18/Mar/2024 11:46:22] \"POST /updateTable HTTP/1.1\" 200 -\n"
     ]
    },
    {
     "name": "stdout",
     "output_type": "stream",
     "text": [
      "temp inputTemp 300\n",
      "rpm inputRPM 42.3\n",
      "growthRate inputGrowthRate 0.029\n",
      "mediumDensity inputMediumDensity 1000\n",
      "doublings inputDoublings 7\n"
     ]
    },
    {
     "name": "stderr",
     "output_type": "stream",
     "text": [
      "Starting updateTable function\n",
      "User input is: 10\n",
      "Updated temp to 10\n",
      "User input is: 42.3\n",
      "Updated rpm to 42.3\n",
      "User input is: 0.029\n",
      "Updated growthRate to 0.029\n",
      "User input is: 1000\n",
      "Updated mediumDensity to 1000\n",
      "User input is: 7\n",
      "Updated doublings to 7\n",
      "No documents found with given params. Running simulation from scratch.\n"
     ]
    },
    {
     "name": "stdout",
     "output_type": "stream",
     "text": [
      "temp inputTemp 10\n",
      "rpm inputRPM 42.3\n",
      "growthRate inputGrowthRate 0.029\n",
      "mediumDensity inputMediumDensity 1000\n",
      "doublings inputDoublings 7\n"
     ]
    },
    {
     "name": "stderr",
     "output_type": "stream",
     "text": [
      "locator: <matplotlib.ticker.FixedLocator object at 0x7fe960219be0>\n",
      "locator: <matplotlib.ticker.FixedLocator object at 0x7fe94008f130>\n",
      "locator: <matplotlib.ticker.FixedLocator object at 0x7fe9604e3b50>\n",
      "locator: <matplotlib.ticker.FixedLocator object at 0x7fe96093d730>\n",
      "locator: <matplotlib.ticker.FixedLocator object at 0x7fe9208fe070>\n",
      "locator: <matplotlib.ticker.FixedLocator object at 0x7fe96097d7f0>\n",
      "10.144.36.126 - - [18/Mar/2024 11:46:36] \"POST /updateTable HTTP/1.1\" 200 -\n"
     ]
    },
    {
     "name": "stdout",
     "output_type": "stream",
     "text": [
      "Document inserted with ID: 65f88c0cc764d98a5a1d6156\n"
     ]
    },
    {
     "name": "stderr",
     "output_type": "stream",
     "text": [
      "Starting updateTable function\n",
      "User input is: 1450\n",
      "Updated temp to 1450\n",
      "User input is: 42.3\n",
      "Updated rpm to 42.3\n",
      "User input is: 0.029\n",
      "Updated growthRate to 0.029\n",
      "User input is: 1000\n",
      "Updated mediumDensity to 1000\n",
      "User input is: 7\n",
      "Updated doublings to 7\n",
      "No documents found with given params. Running simulation from scratch.\n"
     ]
    },
    {
     "name": "stdout",
     "output_type": "stream",
     "text": [
      "temp inputTemp 1450\n",
      "rpm inputRPM 42.3\n",
      "growthRate inputGrowthRate 0.029\n",
      "mediumDensity inputMediumDensity 1000\n",
      "doublings inputDoublings 7\n"
     ]
    },
    {
     "name": "stderr",
     "output_type": "stream",
     "text": [
      "locator: <matplotlib.ticker.FixedLocator object at 0x7fe920cdf430>\n",
      "locator: <matplotlib.ticker.FixedLocator object at 0x7fe960a5dd00>\n",
      "locator: <matplotlib.ticker.FixedLocator object at 0x7fe920db8730>\n",
      "locator: <matplotlib.ticker.FixedLocator object at 0x7fe9401082b0>\n",
      "locator: <matplotlib.ticker.FixedLocator object at 0x7fe9602d2a30>\n",
      "locator: <matplotlib.ticker.FixedLocator object at 0x7fe951c5cfa0>\n",
      "10.144.36.126 - - [18/Mar/2024 11:47:01] \"POST /updateTable HTTP/1.1\" 200 -\n"
     ]
    },
    {
     "name": "stdout",
     "output_type": "stream",
     "text": [
      "Document inserted with ID: 65f88c25c764d98a5a1d6157\n"
     ]
    }
   ],
   "source": [
    "from flask import Flask, render_template, request, session, jsonify\n",
    "from pymongo import MongoClient\n",
    "import pandas as pd\n",
    "import logging\n",
    "from IPython.display import display, HTML\n",
    "import base64\n",
    "\n",
    "import import_ipynb\n",
    "import pipeline\n",
    "\n",
    "logging.getLogger('matplotlib.font_manager').disabled = True\n",
    "\n",
    "logger = logging.getLogger()\n",
    "logger.setLevel(logging.DEBUG)\n",
    "\n",
    "# Create a StreamHandler to display log messages in the notebook\n",
    "handler = logging.StreamHandler()\n",
    "handler.setLevel(logging.DEBUG)\n",
    "logger.addHandler(handler)\n",
    "\n",
    "app = Flask(__name__)\n",
    "app.secret_key = '29e069cadd9173cb2efac4d0ebbbada31f519cae06b1f373'\n",
    "\n",
    "# Create a MongoDB client and connect to database\n",
    "client = MongoClient(\"mongodb://localhost:27017/\")\n",
    "db = client[\"sims\"]\n",
    "collection = db[\"table1\"]\n",
    "\n",
    "@app.after_request\n",
    "def addCacheHeaders(response):\n",
    "    response.headers['Cache-Control'] = 'no-store'\n",
    "    return response\n",
    "\n",
    "# Define the 'inputs' dictionary within the session\n",
    "def initSessionInputs():\n",
    "    return {\n",
    "        'workingVolume': 20000,\n",
    "        'tankDiameter':  2.34,\n",
    "        'rpm': 42.3,\n",
    "        'backPressure': 1.3,\n",
    "        'superficialVel': 0.004,\n",
    "        'moleFracO2': 0.21,\n",
    "        'moleFracCO2':  0.03,\n",
    "        'initCells': 4e6,\n",
    "        'temp': 310,\n",
    "        'powerNumber': 5,\n",
    "        'mediumDensity': 1000,\n",
    "        'mediumViscosity': 9e-4,\n",
    "        'vesselVolDay': 0.0,\n",
    "        'perfLactateRate': 5.0,\n",
    "        'perfAmmrate': 5.0,\n",
    "        'growthRate': 0.029,\n",
    "        'glutamineUptakeRate': 0,\n",
    "        'glucoseUptakeRate': 0,\n",
    "        'oxygenUptakeRate': 0.49, \n",
    "        'carbonDioxideProdRate': 0.593,\n",
    "        'ammoniaProductionRate': 0.013571,\n",
    "        'lactateProductionRate': 0.135707, \n",
    "        'massDensity': 1030,\n",
    "        'cellRadius': 18e-6,\n",
    "        'wetmass': 3000,\n",
    "        'dryMassFraction': 0.3,\n",
    "        'ammoniaLimit': 5,\n",
    "        'lactateLimit': 50, \n",
    "        'CO2Limit': 100,\n",
    "        'turbLengthLimit': 20e-6,\n",
    "        'count': 50,\n",
    "        'doublings': 7,\n",
    "        'rpmlims': (1,75),\n",
    "        'supervellims': (0.0001,0.005),\n",
    "        'celldenslims': (5.9e5,6.1e5)\n",
    "    }\n",
    "\n",
    "@app.route('/updateTable', methods=['POST'])\n",
    "def updateTable():\n",
    "    # Retrieve session inputs\n",
    "    logging.debug(\"Starting updateTable function\")\n",
    "    if 'inputs' not in session:\n",
    "        session['inputs'] = initSessionInputs()\n",
    "\n",
    "    inputs = session['inputs']\n",
    "\n",
    "    # Get updated input params from user\n",
    "    inputIDs = [('temp', 'inputTemp'), \n",
    "                   ('rpm', 'inputRPM'),\n",
    "                   ('growthRate', 'inputGrowthRate'), \n",
    "                   ('mediumDensity', 'inputMediumDensity'),\n",
    "                   ('doublings', 'inputDoublings')]\n",
    "    for inputID in inputIDs:\n",
    "        inputs = updateInput(inputs, inputID)\n",
    "\n",
    "    # Build query using MongoDb syntax\n",
    "    # Example: query['inputs.temp'] = 100\n",
    "    query = {}\n",
    "    for k, v in inputs.items():\n",
    "        query['inputs.' + k] = v\n",
    "\n",
    "    documentCount = collection.count_documents(query)\n",
    "    if documentCount > 0:\n",
    "        logging.debug(\"Found %s documents\", documentCount)\n",
    "    else:\n",
    "        logging.debug(\"No documents found with given params. Running simulation from scratch.\")\n",
    "        pipeline.runSimAndInsert(inputs)\n",
    "        #return jsonify({'tableHtml': ''})\n",
    "\n",
    "    firstItem = collection.find_one(query)\n",
    "    outputsData = firstItem['outputs']\n",
    "    df = pd.DataFrame(outputsData.items(), columns=['Constraint', 'Maximum Yield [g/L wet]'])\n",
    "    tableHtml = df.to_html(classes='table table-striped', index=False)\n",
    "    \n",
    "    # Retrieve graphs\n",
    "    image_binary = firstItem['graph']\n",
    "    image_base64 = base64.b64encode(image_binary).decode('utf-8')\n",
    "    response_data = {\n",
    "        'tableHtml': tableHtml,\n",
    "        'graphData': 'data:image/png;base64,' + image_base64\n",
    "    }\n",
    "\n",
    "    return jsonify(response_data)\n",
    "\n",
    "def updateInput(inputs, inputID):\n",
    "    name = inputID[0]\n",
    "    _id = inputID[1]\n",
    "    userInput = request.form.get(name)\n",
    "    print(name, _id, userInput)\n",
    "    logging.debug(\"User input is: %s\", userInput)\n",
    "    if userInput is not None:\n",
    "        if userInput.isdigit():\n",
    "            newValue = int(userInput)\n",
    "        else:\n",
    "            newValue = float(userInput)\n",
    "            \n",
    "        inputs[name] = newValue\n",
    "        logging.debug(\"Updated %s to %s\", name, newValue)\n",
    "    \n",
    "    return inputs\n",
    "    \n",
    "@app.route('/', methods=['GET'])\n",
    "def index():\n",
    "    return render_template('index.html', table='')\n",
    "        \n",
    "@app.route('/items')\n",
    "def displayItems():\n",
    "    items = collection.find()\n",
    "    return render_template('items.html', items=items)\n",
    "\n",
    "@app.route('/about')\n",
    "def about():\n",
    "    return render_template('about.html')\n",
    "\n",
    "@app.route('/clear-session')\n",
    "def clear_session_route():\n",
    "    session.clear()\n",
    "    return 'Session cleared'\n",
    "\n",
    "if __name__ == '__main__':\n",
    "    app.run(host=\"0.0.0.0\", port=5001, debug=False)"
   ]
  },
  {
   "cell_type": "code",
   "execution_count": null,
   "id": "a7fac8eb-598b-4a41-abf9-aacbfbe4116d",
   "metadata": {},
   "outputs": [],
   "source": []
  }
 ],
 "metadata": {
  "kernelspec": {
   "display_name": "Python 3 (ipykernel)",
   "language": "python",
   "name": "python3"
  },
  "language_info": {
   "codemirror_mode": {
    "name": "ipython",
    "version": 3
   },
   "file_extension": ".py",
   "mimetype": "text/x-python",
   "name": "python",
   "nbconvert_exporter": "python",
   "pygments_lexer": "ipython3",
   "version": "3.9.18"
  }
 },
 "nbformat": 4,
 "nbformat_minor": 5
}
