{
 "cells": [
  {
   "cell_type": "code",
   "execution_count": 1,
   "id": "14587ed5-b333-4752-8a8f-6a64e1c9bbc7",
   "metadata": {},
   "outputs": [],
   "source": [
    "import sys\n",
    "import sqlite3\n",
    "import pandas as pd\n",
    "\n",
    "sys.path.append('../bioreactor-technical-analysis')\n",
    "#sys.path.append('/Users/armanrafian/Programs/thesis/bioreactor-technical-analysis/')"
   ]
  },
  {
   "cell_type": "code",
   "execution_count": 2,
   "id": "1b77bc7c-a58c-42b1-8cf4-27746f25dca1",
   "metadata": {},
   "outputs": [],
   "source": [
    "import biota.steadyfluxes as steady"
   ]
  },
  {
   "cell_type": "markdown",
   "id": "9dd5cbc5-5747-4a9c-8c5d-a82819d48569",
   "metadata": {},
   "source": [
    "## Run 2nd experiment"
   ]
  },
  {
   "cell_type": "code",
   "execution_count": 3,
   "id": "ec7242b9-d098-41bd-94a6-1a1bb4590043",
   "metadata": {},
   "outputs": [],
   "source": [
    "def runSim( showGraphs=False, **kwargs):\n",
    "    \n",
    "    impellerDiameter=kwargs['tankDiameter']/3\n",
    "    initVol = 0.76 * kwargs['workingVolume']\n",
    "    STR_Humbird_20kl = steady.Bioreactor(wv=kwargs['workingVolume'],t=kwargs['tankDiameter'],d=impellerDiameter,\n",
    "                                         n=kwargs['rpm'],p_back=kwargs['backPressure'],u_s=kwargs['superficialVel'],\n",
    "                                         mf_O2_gas=kwargs['moleFracO2'],mf_CO2_gas=kwargs['moleFracCO2'],v0=initVol,\n",
    "                                         ns=kwargs['initCells'],Temp=kwargs['temp'],Np=kwargs['powerNumber'],\n",
    "                                         rho=kwargs['mediumDensity'],mu=kwargs['mediumViscosity'],vvd=kwargs['vesselVolDay'],\n",
    "                                         perfAMM=kwargs['perfAmmrate'],perfLAC=kwargs['perfLactateRate'])\n",
    "\n",
    "    uptakeList = [kwargs['glutamineUptakeRate'], kwargs['glucoseUptakeRate'], kwargs['oxygenUptakeRate']]\n",
    "    prodList = [kwargs['carbonDioxideProdRate'], kwargs['ammoniaProductionRate'], kwargs['lactateProductionRate']]\n",
    "    limitsList = [kwargs['ammoniaLimit'], kwargs['lactateLimit'], kwargs['CO2Limit'], kwargs['turbLengthLimit']]\n",
    "    cell_Humbird = steady.Cell(mu=kwargs['growthRate'],uptakes=uptakeList,prod=prodList,rho=kwargs['massDensity'],rad=kwargs['cellRadius'],wetmass=kwargs['wetmass'],dmf=kwargs['dryMassFraction'],limits=limitsList)\n",
    "    \n",
    "    bioreactor = STR_Humbird_20kl\n",
    "    cell = cell_Humbird\n",
    "    return steady.brute(count=kwargs['count'],b=bioreactor,c=cell,dbls=kwargs['doublings'],rpmlims=kwargs['rpmlims'],uslims=kwargs['supervellims'],nslims=kwargs['celldenslims'],graphs=showGraphs)"
   ]
  },
  {
   "cell_type": "code",
   "execution_count": 4,
   "id": "e3d334c6-4d0b-47cb-b283-1bdf6adda352",
   "metadata": {},
   "outputs": [],
   "source": [
    "kwargs = {\n",
    "    'workingVolume': 20000,\n",
    "    'tankDiameter':  2.34,\n",
    "    'rpm': 42.3,\n",
    "    'backPressure': 1.3,\n",
    "    'superficialVel': 0.004,\n",
    "    'moleFracO2': 0.21,\n",
    "    'moleFracCO2':  0.03,\n",
    "    'initCells': 4e6,\n",
    "    'temp': 310,\n",
    "    'powerNumber': 5,\n",
    "    'mediumDensity': 1000,\n",
    "    'mediumViscosity': 9e-4,\n",
    "    'vesselVolDay': 0.0,\n",
    "    'perfLactateRate': 5.0,\n",
    "    'perfAmmrate': 5.0,\n",
    "    'growthRate': 0.029,\n",
    "    'glutamineUptakeRate': 0,\n",
    "    'glucoseUptakeRate': 0,\n",
    "    'oxygenUptakeRate': 0.49, \n",
    "    'carbonDioxideProdRate': 0.593,\n",
    "    'ammoniaProductionRate': 0.013571,\n",
    "    'lactateProductionRate': 0.135707, \n",
    "    'massDensity': 1030,\n",
    "    'cellRadius': 18e-6,\n",
    "    'wetmass': 3000,\n",
    "    'dryMassFraction': 0.3,\n",
    "    'ammoniaLimit': 5,\n",
    "    'lactateLimit': 50, \n",
    "    'CO2Limit': 100,\n",
    "    'turbLengthLimit': 20e-6,\n",
    "    'count': 50,\n",
    "    'doublings': 7,\n",
    "    'rpmlims': (1,75),\n",
    "    'supervellims': (0.0001,0.005),\n",
    "    'celldenslims': (5.9e5,6.1e5)\n",
    "}"
   ]
  },
  {
   "cell_type": "code",
   "execution_count": 5,
   "id": "7de7455d-1bf6-4083-9ccd-45c390c136c2",
   "metadata": {},
   "outputs": [],
   "source": [
    "df = runSim(**kwargs)"
   ]
  },
  {
   "cell_type": "code",
   "execution_count": 6,
   "id": "7734792f-32d9-4677-94b7-d43727d0f9ff",
   "metadata": {},
   "outputs": [
    {
     "data": {
      "text/html": [
       "<div>\n",
       "<style scoped>\n",
       "    .dataframe tbody tr th:only-of-type {\n",
       "        vertical-align: middle;\n",
       "    }\n",
       "\n",
       "    .dataframe tbody tr th {\n",
       "        vertical-align: top;\n",
       "    }\n",
       "\n",
       "    .dataframe thead th {\n",
       "        text-align: right;\n",
       "    }\n",
       "</style>\n",
       "<table border=\"1\" class=\"dataframe\">\n",
       "  <thead>\n",
       "    <tr style=\"text-align: right;\">\n",
       "      <th></th>\n",
       "      <th>Constraint</th>\n",
       "      <th>Maximum Yield [g/L wet]</th>\n",
       "    </tr>\n",
       "  </thead>\n",
       "  <tbody>\n",
       "    <tr>\n",
       "      <th>0</th>\n",
       "      <td>overall</td>\n",
       "      <td>47.632072</td>\n",
       "    </tr>\n",
       "    <tr>\n",
       "      <th>1</th>\n",
       "      <td>ammonia</td>\n",
       "      <td>47.632072</td>\n",
       "    </tr>\n",
       "    <tr>\n",
       "      <th>2</th>\n",
       "      <td>lactate</td>\n",
       "      <td>47.632072</td>\n",
       "    </tr>\n",
       "    <tr>\n",
       "      <th>3</th>\n",
       "      <td>CO2</td>\n",
       "      <td>131.708818</td>\n",
       "    </tr>\n",
       "    <tr>\n",
       "      <th>4</th>\n",
       "      <td>kla</td>\n",
       "      <td>63.668296</td>\n",
       "    </tr>\n",
       "    <tr>\n",
       "      <th>5</th>\n",
       "      <td>mixing</td>\n",
       "      <td>71.497455</td>\n",
       "    </tr>\n",
       "    <tr>\n",
       "      <th>6</th>\n",
       "      <td>hydrodynamic stress</td>\n",
       "      <td>386.966163</td>\n",
       "    </tr>\n",
       "    <tr>\n",
       "      <th>7</th>\n",
       "      <td>superficial velocity</td>\n",
       "      <td>332.760836</td>\n",
       "    </tr>\n",
       "  </tbody>\n",
       "</table>\n",
       "</div>"
      ],
      "text/plain": [
       "             Constraint  Maximum Yield [g/L wet]\n",
       "0               overall                47.632072\n",
       "1               ammonia                47.632072\n",
       "2               lactate                47.632072\n",
       "3                   CO2               131.708818\n",
       "4                   kla                63.668296\n",
       "5                mixing                71.497455\n",
       "6   hydrodynamic stress               386.966163\n",
       "7  superficial velocity               332.760836"
      ]
     },
     "execution_count": 6,
     "metadata": {},
     "output_type": "execute_result"
    }
   ],
   "source": [
    "df"
   ]
  },
  {
   "cell_type": "code",
   "execution_count": 7,
   "id": "036e27c7-9f9f-4ee2-bb72-fe60e9a6d63e",
   "metadata": {},
   "outputs": [
    {
     "data": {
      "text/plain": [
       "{'inputs': {'workingVolume': 20000,\n",
       "  'tankDiameter': 2.34,\n",
       "  'rpm': 42.3,\n",
       "  'backPressure': 1.3,\n",
       "  'superficialVel': 0.004,\n",
       "  'moleFracO2': 0.21,\n",
       "  'moleFracCO2': 0.03,\n",
       "  'initCells': 4000000.0,\n",
       "  'temp': 310,\n",
       "  'powerNumber': 5,\n",
       "  'mediumDensity': 1000,\n",
       "  'mediumViscosity': 0.0009,\n",
       "  'vesselVolDay': 0.0,\n",
       "  'perfLactateRate': 5.0,\n",
       "  'perfAmmrate': 5.0,\n",
       "  'growthRate': 0.029,\n",
       "  'glutamineUptakeRate': 0,\n",
       "  'glucoseUptakeRate': 0,\n",
       "  'oxygenUptakeRate': 0.49,\n",
       "  'carbonDioxideProdRate': 0.593,\n",
       "  'ammoniaProductionRate': 0.013571,\n",
       "  'lactateProductionRate': 0.135707,\n",
       "  'massDensity': 1030,\n",
       "  'cellRadius': 1.8e-05,\n",
       "  'wetmass': 3000,\n",
       "  'dryMassFraction': 0.3,\n",
       "  'ammoniaLimit': 5,\n",
       "  'lactateLimit': 50,\n",
       "  'CO2Limit': 100,\n",
       "  'turbLengthLimit': 2e-05,\n",
       "  'count': 50,\n",
       "  'doublings': 7,\n",
       "  'rpmlims': (1, 75),\n",
       "  'supervellims': (0.0001, 0.005),\n",
       "  'celldenslims': (590000.0, 610000.0)},\n",
       " 'outputs': {'overall': 47.63207161285757,\n",
       "  'ammonia': 47.63207161285757,\n",
       "  'lactate': 47.63207161285757,\n",
       "  'CO2': 131.7088177454151,\n",
       "  'kla': 63.668296310983756,\n",
       "  'mixing': 71.49745512279137,\n",
       "  'hydrodynamic stress': 386.96616325678644,\n",
       "  'superficial velocity': 332.76083649827024}}"
      ]
     },
     "execution_count": 7,
     "metadata": {},
     "output_type": "execute_result"
    }
   ],
   "source": [
    "df_dict_list = df.to_dict(orient='records')\n",
    "df_dict = {}\n",
    "for item in df_dict_list:\n",
    "    df_dict[item['Constraint']] = item['Maximum Yield [g/L wet]']\n",
    "    \n",
    "document = {\n",
    "    \"inputs\": {},\n",
    "    \"outputs\": {}\n",
    "}\n",
    "\n",
    "for key, value in kwargs.items():\n",
    "    document['inputs'][key] = value\n",
    "\n",
    "for key, value in df_dict.items():\n",
    "    document['outputs'][key] = value\n",
    "\n",
    "document"
   ]
  },
  {
   "cell_type": "code",
   "execution_count": 8,
   "id": "e07d3629-8716-4ec7-baac-74f1ea7590af",
   "metadata": {},
   "outputs": [],
   "source": [
    "from pymongo import MongoClient\n",
    "\n",
    "uri = \"mongodb://localhost:27017/\"\n",
    "client = MongoClient(uri)\n",
    "\n",
    "db = client['sims']\n",
    "collection = db['table1']"
   ]
  },
  {
   "cell_type": "code",
   "execution_count": 9,
   "id": "6ce40c23-34c0-47b1-868a-d51965e2f0ec",
   "metadata": {},
   "outputs": [],
   "source": [
    "def insertDf(kwargs, df):\n",
    "    df_dict_list = df.to_dict(orient='records')\n",
    "    df_dict = {}\n",
    "    for item in df_dict_list:\n",
    "        df_dict[item['Constraint']] = item['Maximum Yield [g/L wet]']\n",
    "        \n",
    "    document = {\n",
    "        \"inputs\": {},\n",
    "        \"outputs\": {}\n",
    "    }\n",
    "    \n",
    "    for key, value in kwargs.items():\n",
    "        document['inputs'][key] = value\n",
    "    \n",
    "    for key, value in df_dict.items():\n",
    "        document['outputs'][key] = value\n",
    "\n",
    "    existing_document = collection.find_one(document)\n",
    "    if existing_document:\n",
    "        print(\"A similar document already exists.\")\n",
    "    else:\n",
    "        result = collection.insert_one(document)\n",
    "        print(f\"Document inserted with ID: {result.inserted_id}\")"
   ]
  },
  {
   "cell_type": "code",
   "execution_count": 10,
   "id": "822bc885-8560-4bde-a1db-8b84c4d152e4",
   "metadata": {},
   "outputs": [
    {
     "name": "stdout",
     "output_type": "stream",
     "text": [
      "Document inserted with ID: 658b57c6a46c86cdbd78789b\n"
     ]
    }
   ],
   "source": [
    "insertDf(kwargs, df)"
   ]
  },
  {
   "cell_type": "code",
   "execution_count": 11,
   "id": "381fa746-d712-4e26-a9c6-a1be38f832bb",
   "metadata": {},
   "outputs": [
    {
     "name": "stdout",
     "output_type": "stream",
     "text": [
      "Document inserted with ID: 658b57caa46c86cdbd78789c\n"
     ]
    }
   ],
   "source": [
    "kwargs['temp'] = 100\n",
    "df = runSim(**kwargs)\n",
    "insertDf(kwargs, df)"
   ]
  },
  {
   "cell_type": "code",
   "execution_count": 12,
   "id": "9e8f35b8-95d6-4898-9bd0-9704386277a6",
   "metadata": {},
   "outputs": [],
   "source": [
    "#for i in range(100, 501, 25):\n",
    "#    kwargs['temp'] = i\n",
    "#    df = runSim(**kwargs)\n",
    "#    insertDf(kwargs, df)\n"
   ]
  },
  {
   "cell_type": "code",
   "execution_count": 13,
   "id": "6e4f943d-2724-4116-91a2-c2999a3d7aa7",
   "metadata": {
    "scrolled": true
   },
   "outputs": [
    {
     "name": "stdout",
     "output_type": "stream",
     "text": [
      "{'_id': ObjectId('658b57c6a46c86cdbd78789b'),\n",
      " 'inputs': {'CO2Limit': 100,\n",
      "            'ammoniaLimit': 5,\n",
      "            'ammoniaProductionRate': 0.013571,\n",
      "            'backPressure': 1.3,\n",
      "            'carbonDioxideProdRate': 0.593,\n",
      "            'cellRadius': 1.8e-05,\n",
      "            'celldenslims': [590000.0, 610000.0],\n",
      "            'count': 50,\n",
      "            'doublings': 7,\n",
      "            'dryMassFraction': 0.3,\n",
      "            'glucoseUptakeRate': 0,\n",
      "            'glutamineUptakeRate': 0,\n",
      "            'growthRate': 0.029,\n",
      "            'initCells': 4000000.0,\n",
      "            'lactateLimit': 50,\n",
      "            'lactateProductionRate': 0.135707,\n",
      "            'massDensity': 1030,\n",
      "            'mediumDensity': 1000,\n",
      "            'mediumViscosity': 0.0009,\n",
      "            'moleFracCO2': 0.03,\n",
      "            'moleFracO2': 0.21,\n",
      "            'oxygenUptakeRate': 0.49,\n",
      "            'perfAmmrate': 5.0,\n",
      "            'perfLactateRate': 5.0,\n",
      "            'powerNumber': 5,\n",
      "            'rpm': 42.3,\n",
      "            'rpmlims': [1, 75],\n",
      "            'superficialVel': 0.004,\n",
      "            'supervellims': [0.0001, 0.005],\n",
      "            'tankDiameter': 2.34,\n",
      "            'temp': 310,\n",
      "            'turbLengthLimit': 2e-05,\n",
      "            'vesselVolDay': 0.0,\n",
      "            'wetmass': 3000,\n",
      "            'workingVolume': 20000},\n",
      " 'outputs': {'CO2': 131.7088177454151,\n",
      "             'ammonia': 47.63207161285757,\n",
      "             'hydrodynamic stress': 386.96616325678644,\n",
      "             'kla': 63.668296310983756,\n",
      "             'lactate': 47.63207161285757,\n",
      "             'mixing': 71.49745512279137,\n",
      "             'overall': 47.63207161285757,\n",
      "             'superficial velocity': 332.76083649827024}}\n",
      "{'_id': ObjectId('658b57caa46c86cdbd78789c'),\n",
      " 'inputs': {'CO2Limit': 100,\n",
      "            'ammoniaLimit': 5,\n",
      "            'ammoniaProductionRate': 0.013571,\n",
      "            'backPressure': 1.3,\n",
      "            'carbonDioxideProdRate': 0.593,\n",
      "            'cellRadius': 1.8e-05,\n",
      "            'celldenslims': [590000.0, 610000.0],\n",
      "            'count': 50,\n",
      "            'doublings': 7,\n",
      "            'dryMassFraction': 0.3,\n",
      "            'glucoseUptakeRate': 0,\n",
      "            'glutamineUptakeRate': 0,\n",
      "            'growthRate': 0.029,\n",
      "            'initCells': 4000000.0,\n",
      "            'lactateLimit': 50,\n",
      "            'lactateProductionRate': 0.135707,\n",
      "            'massDensity': 1030,\n",
      "            'mediumDensity': 1000,\n",
      "            'mediumViscosity': 0.0009,\n",
      "            'moleFracCO2': 0.03,\n",
      "            'moleFracO2': 0.21,\n",
      "            'oxygenUptakeRate': 0.49,\n",
      "            'perfAmmrate': 5.0,\n",
      "            'perfLactateRate': 5.0,\n",
      "            'powerNumber': 5,\n",
      "            'rpm': 42.3,\n",
      "            'rpmlims': [1, 75],\n",
      "            'superficialVel': 0.004,\n",
      "            'supervellims': [0.0001, 0.005],\n",
      "            'tankDiameter': 2.34,\n",
      "            'temp': 100,\n",
      "            'turbLengthLimit': 2e-05,\n",
      "            'vesselVolDay': 0.0,\n",
      "            'wetmass': 3000,\n",
      "            'workingVolume': 20000},\n",
      " 'outputs': {'CO2': 408.18272373194634,\n",
      "             'ammonia': 47.63207161285757,\n",
      "             'hydrodynamic stress': 1199.8404564396865,\n",
      "             'kla': 72.19471815026333,\n",
      "             'lactate': 47.63207161285757,\n",
      "             'mixing': 80.52345323348906,\n",
      "             'overall': 47.63207161285757,\n",
      "             'superficial velocity': 1031.769575378589}}\n"
     ]
    }
   ],
   "source": [
    "from pprint import pprint\n",
    "\n",
    "cursor = db.table1.find()\n",
    "\n",
    "# Iterate over the cursor and print each document\n",
    "for document in cursor:\n",
    "    pprint(document)"
   ]
  },
  {
   "cell_type": "code",
   "execution_count": null,
   "id": "13a5cc20-3648-4241-8fd9-c4e5f33a87fb",
   "metadata": {},
   "outputs": [],
   "source": []
  }
 ],
 "metadata": {
  "kernelspec": {
   "display_name": "Python 3 (ipykernel)",
   "language": "python",
   "name": "python3"
  },
  "language_info": {
   "codemirror_mode": {
    "name": "ipython",
    "version": 3
   },
   "file_extension": ".py",
   "mimetype": "text/x-python",
   "name": "python",
   "nbconvert_exporter": "python",
   "pygments_lexer": "ipython3",
   "version": "3.9.18"
  }
 },
 "nbformat": 4,
 "nbformat_minor": 5
}
